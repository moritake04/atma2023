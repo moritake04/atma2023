{
 "cells": [
  {
   "attachments": {},
   "cell_type": "markdown",
   "metadata": {},
   "source": [
    "# import"
   ]
  },
  {
   "cell_type": "code",
   "execution_count": 1,
   "metadata": {},
   "outputs": [],
   "source": [
    "import numpy as np\n",
    "import pandas as pd\n",
    "from ydata_profiling import ProfileReport"
   ]
  },
  {
   "attachments": {},
   "cell_type": "markdown",
   "metadata": {},
   "source": [
    "# read"
   ]
  },
  {
   "cell_type": "code",
   "execution_count": 2,
   "metadata": {},
   "outputs": [],
   "source": [
    "anime = pd.read_csv(\"../data/input/anime.csv\")\n",
    "sample_submission = pd.read_csv(\"../data/input/sample_submission.csv\")\n",
    "test = pd.read_csv(\"../data/input/test.csv\")\n",
    "train = pd.read_csv(\"../data/input/train.csv\")"
   ]
  },
  {
   "cell_type": "code",
   "execution_count": 3,
   "metadata": {},
   "outputs": [],
   "source": [
    "# unknown -> nan\n",
    "anime = anime.replace(\"Unknown\", np.nan)"
   ]
  },
  {
   "attachments": {},
   "cell_type": "markdown",
   "metadata": {},
   "source": [
    "# generate profile report"
   ]
  },
  {
   "cell_type": "code",
   "execution_count": 4,
   "metadata": {},
   "outputs": [
    {
     "data": {
      "text/plain": [
       "'\\nanime_report = ProfileReport(anime, title=\"anime\")\\nanime_report.to_file(\"anime_report\")\\n'"
      ]
     },
     "execution_count": 4,
     "metadata": {},
     "output_type": "execute_result"
    }
   ],
   "source": [
    "\"\"\"\n",
    "anime_report = ProfileReport(anime, title=\"anime\")\n",
    "anime_report.to_file(\"anime_report\")\n",
    "\"\"\""
   ]
  },
  {
   "cell_type": "code",
   "execution_count": 5,
   "metadata": {},
   "outputs": [
    {
     "data": {
      "text/plain": [
       "'\\ntrain_report = ProfileReport(train, title=\"train\")\\ntrain_report.to_file(\"train_report\")\\ntest_report = ProfileReport(test, title=\"test\")\\ntest_report.to_file(\"test_report\")\\ncomparison_report = train_report.compare(test_report)\\ncomparison_report.to_file(\"comparison_train_test.html\")\\n'"
      ]
     },
     "execution_count": 5,
     "metadata": {},
     "output_type": "execute_result"
    }
   ],
   "source": [
    "\"\"\"\n",
    "train_report = ProfileReport(train, title=\"train\")\n",
    "train_report.to_file(\"train_report\")\n",
    "test_report = ProfileReport(test, title=\"test\")\n",
    "test_report.to_file(\"test_report\")\n",
    "comparison_report = train_report.compare(test_report)\n",
    "comparison_report.to_file(\"comparison_train_test.html\")\n",
    "\"\"\""
   ]
  },
  {
   "attachments": {},
   "cell_type": "markdown",
   "metadata": {},
   "source": [
    "### anime"
   ]
  },
  {
   "cell_type": "code",
   "execution_count": 6,
   "metadata": {},
   "outputs": [
    {
     "data": {
      "text/html": [
       "<div>\n",
       "<style scoped>\n",
       "    .dataframe tbody tr th:only-of-type {\n",
       "        vertical-align: middle;\n",
       "    }\n",
       "\n",
       "    .dataframe tbody tr th {\n",
       "        vertical-align: top;\n",
       "    }\n",
       "\n",
       "    .dataframe thead th {\n",
       "        text-align: right;\n",
       "    }\n",
       "</style>\n",
       "<table border=\"1\" class=\"dataframe\">\n",
       "  <thead>\n",
       "    <tr style=\"text-align: right;\">\n",
       "      <th></th>\n",
       "      <th>anime_id</th>\n",
       "      <th>genres</th>\n",
       "      <th>japanese_name</th>\n",
       "      <th>type</th>\n",
       "      <th>episodes</th>\n",
       "      <th>aired</th>\n",
       "      <th>producers</th>\n",
       "      <th>licensors</th>\n",
       "      <th>studios</th>\n",
       "      <th>source</th>\n",
       "      <th>duration</th>\n",
       "      <th>rating</th>\n",
       "      <th>members</th>\n",
       "      <th>watching</th>\n",
       "      <th>completed</th>\n",
       "      <th>on_hold</th>\n",
       "      <th>dropped</th>\n",
       "      <th>plan_to_watch</th>\n",
       "    </tr>\n",
       "  </thead>\n",
       "  <tbody>\n",
       "    <tr>\n",
       "      <th>0</th>\n",
       "      <td>000ba7f7e34e107e7544</td>\n",
       "      <td>Comedy, Sci-Fi, Seinen, Slice of Life, Space</td>\n",
       "      <td>宇宙兄弟</td>\n",
       "      <td>TV</td>\n",
       "      <td>99</td>\n",
       "      <td>Apr 1, 2012 to Mar 22, 2014</td>\n",
       "      <td>Aniplex, Dentsu, YTV, Trinity Sound</td>\n",
       "      <td>Sentai Filmworks</td>\n",
       "      <td>A-1 Pictures</td>\n",
       "      <td>Manga</td>\n",
       "      <td>24 min. per ep.</td>\n",
       "      <td>PG-13 - Teens 13 or older</td>\n",
       "      <td>150428</td>\n",
       "      <td>16552</td>\n",
       "      <td>37234</td>\n",
       "      <td>13009</td>\n",
       "      <td>6948</td>\n",
       "      <td>76685</td>\n",
       "    </tr>\n",
       "    <tr>\n",
       "      <th>1</th>\n",
       "      <td>00427279d72064e7fb69</td>\n",
       "      <td>Adventure, Slice of Life, Mystery, Historical,...</td>\n",
       "      <td>蟲師</td>\n",
       "      <td>TV</td>\n",
       "      <td>26</td>\n",
       "      <td>Oct 23, 2005 to Jun 19, 2006</td>\n",
       "      <td>Avex Entertainment, Marvelous, SKY Perfect Wel...</td>\n",
       "      <td>Funimation</td>\n",
       "      <td>Artland</td>\n",
       "      <td>Manga</td>\n",
       "      <td>25 min. per ep.</td>\n",
       "      <td>PG-13 - Teens 13 or older</td>\n",
       "      <td>620736</td>\n",
       "      <td>55482</td>\n",
       "      <td>235371</td>\n",
       "      <td>42786</td>\n",
       "      <td>20017</td>\n",
       "      <td>267080</td>\n",
       "    </tr>\n",
       "    <tr>\n",
       "      <th>2</th>\n",
       "      <td>00444b67aaabdf740a68</td>\n",
       "      <td>Adventure, Slice of Life, Mystery, Historical,...</td>\n",
       "      <td>蟲師 続章</td>\n",
       "      <td>TV</td>\n",
       "      <td>10</td>\n",
       "      <td>Apr 5, 2014 to Jun 21, 2014</td>\n",
       "      <td>Aniplex, Kodansha, Delfi Sound</td>\n",
       "      <td>Aniplex of America</td>\n",
       "      <td>Artland</td>\n",
       "      <td>Manga</td>\n",
       "      <td>24 min. per ep.</td>\n",
       "      <td>PG-13 - Teens 13 or older</td>\n",
       "      <td>226522</td>\n",
       "      <td>12585</td>\n",
       "      <td>113559</td>\n",
       "      <td>6095</td>\n",
       "      <td>2606</td>\n",
       "      <td>91677</td>\n",
       "    </tr>\n",
       "    <tr>\n",
       "      <th>3</th>\n",
       "      <td>00839a3507ab168abe75</td>\n",
       "      <td>Comedy, Ecchi, Fantasy, School</td>\n",
       "      <td>星刻の竜騎士</td>\n",
       "      <td>TV</td>\n",
       "      <td>12</td>\n",
       "      <td>Apr 5, 2014 to Jun 21, 2014</td>\n",
       "      <td>Media Factory, AT-X, Sony Music Communications...</td>\n",
       "      <td>Funimation</td>\n",
       "      <td>C-Station</td>\n",
       "      <td>Light novel</td>\n",
       "      <td>24 min. per ep.</td>\n",
       "      <td>R+ - Mild Nudity</td>\n",
       "      <td>170220</td>\n",
       "      <td>8723</td>\n",
       "      <td>118202</td>\n",
       "      <td>3753</td>\n",
       "      <td>8034</td>\n",
       "      <td>31508</td>\n",
       "    </tr>\n",
       "    <tr>\n",
       "      <th>4</th>\n",
       "      <td>0192331235e110fe4f76</td>\n",
       "      <td>Comedy, Harem, Romance, Sci-Fi, Shounen, Space</td>\n",
       "      <td>天地無用！</td>\n",
       "      <td>TV</td>\n",
       "      <td>26</td>\n",
       "      <td>Apr 2, 1995 to Sep 24, 1995</td>\n",
       "      <td>TV Tokyo, Pioneer LDC</td>\n",
       "      <td>Funimation, Geneon Entertainment USA</td>\n",
       "      <td>AIC</td>\n",
       "      <td>Original</td>\n",
       "      <td>23 min. per ep.</td>\n",
       "      <td>PG-13 - Teens 13 or older</td>\n",
       "      <td>62599</td>\n",
       "      <td>2565</td>\n",
       "      <td>39890</td>\n",
       "      <td>2093</td>\n",
       "      <td>1986</td>\n",
       "      <td>16065</td>\n",
       "    </tr>\n",
       "  </tbody>\n",
       "</table>\n",
       "</div>"
      ],
      "text/plain": [
       "               anime_id                                             genres  \\\n",
       "0  000ba7f7e34e107e7544       Comedy, Sci-Fi, Seinen, Slice of Life, Space   \n",
       "1  00427279d72064e7fb69  Adventure, Slice of Life, Mystery, Historical,...   \n",
       "2  00444b67aaabdf740a68  Adventure, Slice of Life, Mystery, Historical,...   \n",
       "3  00839a3507ab168abe75                     Comedy, Ecchi, Fantasy, School   \n",
       "4  0192331235e110fe4f76     Comedy, Harem, Romance, Sci-Fi, Shounen, Space   \n",
       "\n",
       "  japanese_name type episodes                         aired  \\\n",
       "0          宇宙兄弟   TV       99   Apr 1, 2012 to Mar 22, 2014   \n",
       "1            蟲師   TV       26  Oct 23, 2005 to Jun 19, 2006   \n",
       "2         蟲師 続章   TV       10   Apr 5, 2014 to Jun 21, 2014   \n",
       "3        星刻の竜騎士   TV       12   Apr 5, 2014 to Jun 21, 2014   \n",
       "4         天地無用！   TV       26   Apr 2, 1995 to Sep 24, 1995   \n",
       "\n",
       "                                           producers  \\\n",
       "0                Aniplex, Dentsu, YTV, Trinity Sound   \n",
       "1  Avex Entertainment, Marvelous, SKY Perfect Wel...   \n",
       "2                     Aniplex, Kodansha, Delfi Sound   \n",
       "3  Media Factory, AT-X, Sony Music Communications...   \n",
       "4                              TV Tokyo, Pioneer LDC   \n",
       "\n",
       "                              licensors       studios       source  \\\n",
       "0                      Sentai Filmworks  A-1 Pictures        Manga   \n",
       "1                            Funimation       Artland        Manga   \n",
       "2                    Aniplex of America       Artland        Manga   \n",
       "3                            Funimation     C-Station  Light novel   \n",
       "4  Funimation, Geneon Entertainment USA           AIC     Original   \n",
       "\n",
       "          duration                     rating  members  watching  completed  \\\n",
       "0  24 min. per ep.  PG-13 - Teens 13 or older   150428     16552      37234   \n",
       "1  25 min. per ep.  PG-13 - Teens 13 or older   620736     55482     235371   \n",
       "2  24 min. per ep.  PG-13 - Teens 13 or older   226522     12585     113559   \n",
       "3  24 min. per ep.           R+ - Mild Nudity   170220      8723     118202   \n",
       "4  23 min. per ep.  PG-13 - Teens 13 or older    62599      2565      39890   \n",
       "\n",
       "   on_hold  dropped  plan_to_watch  \n",
       "0    13009     6948          76685  \n",
       "1    42786    20017         267080  \n",
       "2     6095     2606          91677  \n",
       "3     3753     8034          31508  \n",
       "4     2093     1986          16065  "
      ]
     },
     "execution_count": 6,
     "metadata": {},
     "output_type": "execute_result"
    }
   ],
   "source": [
    "anime.head()"
   ]
  },
  {
   "attachments": {},
   "cell_type": "markdown",
   "metadata": {},
   "source": [
    "- 2000行、18列\n",
    "- text: 9, categorical: 3, numeric: 6\n",
    "\n",
    "***"
   ]
  },
  {
   "attachments": {},
   "cell_type": "markdown",
   "metadata": {},
   "source": [
    "- anime_id: アニメ作品を識別する ID\n",
    "    - テキスト\n",
    "    - 完全ユニーク\n",
    "- genres: 作品ジャンル. (複数)\n",
    "    - テキスト\n",
    "    - 1329種、ユニーク995\n",
    "    - comedyがトップ\n",
    "    - いくつかにまとめたいが多すぎる...\n",
    "- japanese_name: 作品名\n",
    "    - テキスト\n",
    "    - 1931種、ユニーク1872\n",
    "    - 日本語が多いか？\n",
    "    - 2期とか劇場版とかは別扱い\n",
    "- type: TV / OVA (オリジナルビデオアニメーション) など, 作品の提供方法. ex: TV\n",
    "    - テキスト\n",
    "    - カテゴリ\n",
    "    - 7種\n",
    "        - TV, Movie, OVA, Special, ONA, Unknown, Music\n",
    "- episodes: 話数\n",
    "    - テキスト（なんで？と思ったけどunkonownがある）\n",
    "    - 95種、ユニーク58種\n",
    "    - トップが12話、ついで1話\n",
    "    - 何話あるかということだと思う\n",
    "- aired: 放映日 (範囲で差記載されている場合もあります)\n",
    "    - テキスト\n",
    "    - 1653種、ユニーク1396\n",
    "- producers: 制作会社. (複数)\n",
    "    - テキスト\n",
    "    - 1405種、ユニーク1237\n",
    "- licensors: ライセンス所有社. (複数)\n",
    "    - テキスト\n",
    "    - 134種、ユニーク67\n",
    "- studios: スタジオ (複数)\n",
    "    - テキスト\n",
    "    - 271種、ユニーク121\n",
    "- source: 作品の元ネタ. (ex: ライトノベル)\n",
    "    - カテゴリ\n",
    "    - 13種、ユニーク1\n",
    "- duration: 一話ごとの長さ\n",
    "    - テキスト\n",
    "    - 151種、ユニーク44\n",
    "- rating: 年齢制限\n",
    "    - カテゴリ\n",
    "    - 7種、ユニーク1\n",
    "- members: アニメ作品のグループに登録しているユーザー数. (単位は千人)\n",
    "    - 数値\n",
    "- watching: 作品を視聴中のユーザー数\n",
    "    - 数値\n",
    "- completed: 作品を見終わったユーザー数\n",
    "    - 数値\n",
    "- on_hold: 作品を保留にしているユーザー数\n",
    "    - 数値\n",
    "- dropped: 作品を見るのをやめてしまったユーザー数\n",
    "    - 数値\n",
    "- plan_to_watch: この作品を見る予定のユーザー数\n",
    "    - 数値\n",
    "\n",
    "***"
   ]
  },
  {
   "attachments": {},
   "cell_type": "markdown",
   "metadata": {},
   "source": [
    "- text\n",
    "    - genres, japanese_name, aired, producers, licensors, studios\n",
    "- categorical\n",
    "    - type, source, rating, \n",
    "- numerical\n",
    "    - episodes, duration, members, watching, completed, on_hold, dropped, plan_to_watch\n",
    "\n",
    "***"
   ]
  },
  {
   "attachments": {},
   "cell_type": "markdown",
   "metadata": {},
   "source": [
    "textはくっつけてdebertaとかのベクトルにしたい。\n",
    "\n",
    "categorical、numericalはそのままつかえる。\n",
    "\n",
    "durationはnumericalにできそう"
   ]
  },
  {
   "cell_type": "code",
   "execution_count": 98,
   "metadata": {},
   "outputs": [],
   "source": [
    "anime[\"type\"] = anime[\"type\"].astype(\"category\")\n",
    "anime[\"source\"] = anime[\"source\"].astype(\"category\")\n",
    "anime[\"rating\"] = anime[\"rating\"].astype(\"category\")"
   ]
  },
  {
   "cell_type": "code",
   "execution_count": 101,
   "metadata": {},
   "outputs": [
    {
     "data": {
      "text/plain": [
       "0            PG-13 - Teens 13 or older\n",
       "1            PG-13 - Teens 13 or older\n",
       "2            PG-13 - Teens 13 or older\n",
       "3                     R+ - Mild Nudity\n",
       "4            PG-13 - Teens 13 or older\n",
       "                     ...              \n",
       "1995                  R+ - Mild Nudity\n",
       "1996         PG-13 - Teens 13 or older\n",
       "1997    R - 17+ (violence & profanity)\n",
       "1998    R - 17+ (violence & profanity)\n",
       "1999         PG-13 - Teens 13 or older\n",
       "Name: rating, Length: 2000, dtype: category\n",
       "Categories (6, object): ['G - All Ages', 'PG - Children', 'PG-13 - Teens 13 or older', 'R - 17+ (violence & profanity)', 'R+ - Mild Nudity', 'Rx - Hentai']"
      ]
     },
     "execution_count": 101,
     "metadata": {},
     "output_type": "execute_result"
    }
   ],
   "source": [
    "anime[\"rating\"]"
   ]
  },
  {
   "cell_type": "code",
   "execution_count": 83,
   "metadata": {},
   "outputs": [
    {
     "name": "stdout",
     "output_type": "stream",
     "text": [
      "<class 'pandas.core.frame.DataFrame'>\n",
      "RangeIndex: 2000 entries, 0 to 1999\n",
      "Data columns (total 18 columns):\n",
      " #   Column         Non-Null Count  Dtype   \n",
      "---  ------         --------------  -----   \n",
      " 0   anime_id       2000 non-null   object  \n",
      " 1   genres         2000 non-null   object  \n",
      " 2   japanese_name  1999 non-null   object  \n",
      " 3   type           1998 non-null   object  \n",
      " 4   episodes       1982 non-null   object  \n",
      " 5   aired          1992 non-null   object  \n",
      " 6   producers      1785 non-null   object  \n",
      " 7   licensors      1580 non-null   object  \n",
      " 8   studios        1991 non-null   object  \n",
      " 9   source         2000 non-null   object  \n",
      " 10  duration       1985 non-null   object  \n",
      " 11  rating         1995 non-null   category\n",
      " 12  members        2000 non-null   int64   \n",
      " 13  watching       2000 non-null   int64   \n",
      " 14  completed      2000 non-null   int64   \n",
      " 15  on_hold        2000 non-null   int64   \n",
      " 16  dropped        2000 non-null   int64   \n",
      " 17  plan_to_watch  2000 non-null   int64   \n",
      "dtypes: category(1), int64(6), object(11)\n",
      "memory usage: 267.9+ KB\n"
     ]
    }
   ],
   "source": [
    "anime.info()"
   ]
  },
  {
   "cell_type": "code",
   "execution_count": 66,
   "metadata": {},
   "outputs": [],
   "source": [
    "def convert_to_seconds(duration):\n",
    "    \n",
    "    if duration is np.nan:\n",
    "        return None\n",
    "\n",
    "    parts = duration.split(\" \")\n",
    "    time_in_seconds = 0\n",
    "\n",
    "    for part in parts:\n",
    "        if part.isdigit():\n",
    "            time_in_seconds_tmp = int(part)\n",
    "        elif part == \"min.\":\n",
    "            time_in_seconds += time_in_seconds_tmp * 60\n",
    "        elif part == \"hr.\":\n",
    "            time_in_seconds += time_in_seconds_tmp * 3600\n",
    "\n",
    "    return time_in_seconds"
   ]
  },
  {
   "attachments": {},
   "cell_type": "markdown",
   "metadata": {},
   "source": [
    "### train & test"
   ]
  },
  {
   "cell_type": "code",
   "execution_count": 96,
   "metadata": {},
   "outputs": [
    {
     "data": {
      "text/plain": [
       "user_id\n",
       "61c04a903417d6ed0500    326\n",
       "87e8bf4369b122472f54    320\n",
       "66e8ad1b15e37ffe34d8    310\n",
       "445bd5c54308fc81763d    297\n",
       "201b3dde31e826ba2030    296\n",
       "                       ... \n",
       "f0cf163dc9f6df380958      1\n",
       "d7b6bf8a99fdd3889579      1\n",
       "d747358f72dd5774d845      1\n",
       "a0ea782492772a5e05f7      1\n",
       "bf3cbfa1d3b161eaf3e8      1\n",
       "Name: count, Length: 1794, dtype: int64"
      ]
     },
     "execution_count": 96,
     "metadata": {},
     "output_type": "execute_result"
    }
   ],
   "source": [
    "train[\"user_id\"].value_counts()"
   ]
  },
  {
   "cell_type": "code",
   "execution_count": 15,
   "metadata": {},
   "outputs": [
    {
     "data": {
      "text/html": [
       "<div>\n",
       "<style scoped>\n",
       "    .dataframe tbody tr th:only-of-type {\n",
       "        vertical-align: middle;\n",
       "    }\n",
       "\n",
       "    .dataframe tbody tr th {\n",
       "        vertical-align: top;\n",
       "    }\n",
       "\n",
       "    .dataframe thead th {\n",
       "        text-align: right;\n",
       "    }\n",
       "</style>\n",
       "<table border=\"1\" class=\"dataframe\">\n",
       "  <thead>\n",
       "    <tr style=\"text-align: right;\">\n",
       "      <th></th>\n",
       "      <th>user_id</th>\n",
       "      <th>anime_id</th>\n",
       "    </tr>\n",
       "  </thead>\n",
       "  <tbody>\n",
       "    <tr>\n",
       "      <th>0</th>\n",
       "      <td>0008e10fb39e55447333</td>\n",
       "      <td>04068820a73e52dc3b32</td>\n",
       "    </tr>\n",
       "    <tr>\n",
       "      <th>1</th>\n",
       "      <td>0008e10fb39e55447333</td>\n",
       "      <td>04a3d0b122b24965e909</td>\n",
       "    </tr>\n",
       "    <tr>\n",
       "      <th>2</th>\n",
       "      <td>0008e10fb39e55447333</td>\n",
       "      <td>1447fe1f10b59912d6a8</td>\n",
       "    </tr>\n",
       "    <tr>\n",
       "      <th>3</th>\n",
       "      <td>0008e10fb39e55447333</td>\n",
       "      <td>2622632598c68682afd5</td>\n",
       "    </tr>\n",
       "    <tr>\n",
       "      <th>4</th>\n",
       "      <td>0008e10fb39e55447333</td>\n",
       "      <td>2701850c7216516fec46</td>\n",
       "    </tr>\n",
       "    <tr>\n",
       "      <th>...</th>\n",
       "      <td>...</td>\n",
       "      <td>...</td>\n",
       "    </tr>\n",
       "    <tr>\n",
       "      <th>117671</th>\n",
       "      <td>ffe85a36cd20500faa58</td>\n",
       "      <td>f508b02efeac8ecb8cc0</td>\n",
       "    </tr>\n",
       "    <tr>\n",
       "      <th>117672</th>\n",
       "      <td>ffe85a36cd20500faa58</td>\n",
       "      <td>f5b8ecea3beea4b82d79</td>\n",
       "    </tr>\n",
       "    <tr>\n",
       "      <th>117673</th>\n",
       "      <td>ffe85a36cd20500faa58</td>\n",
       "      <td>f6c208226b6b69948053</td>\n",
       "    </tr>\n",
       "    <tr>\n",
       "      <th>117674</th>\n",
       "      <td>ffe85a36cd20500faa58</td>\n",
       "      <td>fe67592c312fc1e17745</td>\n",
       "    </tr>\n",
       "    <tr>\n",
       "      <th>117675</th>\n",
       "      <td>ffe85a36cd20500faa58</td>\n",
       "      <td>ff73475b68001c5e533d</td>\n",
       "    </tr>\n",
       "  </tbody>\n",
       "</table>\n",
       "<p>117676 rows × 2 columns</p>\n",
       "</div>"
      ],
      "text/plain": [
       "                     user_id              anime_id\n",
       "0       0008e10fb39e55447333  04068820a73e52dc3b32\n",
       "1       0008e10fb39e55447333  04a3d0b122b24965e909\n",
       "2       0008e10fb39e55447333  1447fe1f10b59912d6a8\n",
       "3       0008e10fb39e55447333  2622632598c68682afd5\n",
       "4       0008e10fb39e55447333  2701850c7216516fec46\n",
       "...                      ...                   ...\n",
       "117671  ffe85a36cd20500faa58  f508b02efeac8ecb8cc0\n",
       "117672  ffe85a36cd20500faa58  f5b8ecea3beea4b82d79\n",
       "117673  ffe85a36cd20500faa58  f6c208226b6b69948053\n",
       "117674  ffe85a36cd20500faa58  fe67592c312fc1e17745\n",
       "117675  ffe85a36cd20500faa58  ff73475b68001c5e533d\n",
       "\n",
       "[117676 rows x 2 columns]"
      ]
     },
     "execution_count": 15,
     "metadata": {},
     "output_type": "execute_result"
    }
   ],
   "source": [
    "test"
   ]
  },
  {
   "attachments": {},
   "cell_type": "markdown",
   "metadata": {},
   "source": [
    "- user_id: ユーザーを識別する ID\n",
    "- anime_id: アニメ作品を識別する ID\n",
    "- score: ユーザーによる評価値. 1 ~ 10 の離散値を取ります."
   ]
  },
  {
   "cell_type": "code",
   "execution_count": 3,
   "metadata": {},
   "outputs": [
    {
     "data": {
      "text/html": [
       "<div>\n",
       "<style scoped>\n",
       "    .dataframe tbody tr th:only-of-type {\n",
       "        vertical-align: middle;\n",
       "    }\n",
       "\n",
       "    .dataframe tbody tr th {\n",
       "        vertical-align: top;\n",
       "    }\n",
       "\n",
       "    .dataframe thead th {\n",
       "        text-align: right;\n",
       "    }\n",
       "</style>\n",
       "<table border=\"1\" class=\"dataframe\">\n",
       "  <thead>\n",
       "    <tr style=\"text-align: right;\">\n",
       "      <th></th>\n",
       "      <th>score</th>\n",
       "    </tr>\n",
       "  </thead>\n",
       "  <tbody>\n",
       "    <tr>\n",
       "      <th>0</th>\n",
       "      <td>6.478691</td>\n",
       "    </tr>\n",
       "    <tr>\n",
       "      <th>1</th>\n",
       "      <td>2.513589</td>\n",
       "    </tr>\n",
       "    <tr>\n",
       "      <th>2</th>\n",
       "      <td>2.212736</td>\n",
       "    </tr>\n",
       "    <tr>\n",
       "      <th>3</th>\n",
       "      <td>6.608664</td>\n",
       "    </tr>\n",
       "    <tr>\n",
       "      <th>4</th>\n",
       "      <td>6.339157</td>\n",
       "    </tr>\n",
       "    <tr>\n",
       "      <th>...</th>\n",
       "      <td>...</td>\n",
       "    </tr>\n",
       "    <tr>\n",
       "      <th>117671</th>\n",
       "      <td>4.182134</td>\n",
       "    </tr>\n",
       "    <tr>\n",
       "      <th>117672</th>\n",
       "      <td>9.782259</td>\n",
       "    </tr>\n",
       "    <tr>\n",
       "      <th>117673</th>\n",
       "      <td>5.659402</td>\n",
       "    </tr>\n",
       "    <tr>\n",
       "      <th>117674</th>\n",
       "      <td>5.764207</td>\n",
       "    </tr>\n",
       "    <tr>\n",
       "      <th>117675</th>\n",
       "      <td>5.995664</td>\n",
       "    </tr>\n",
       "  </tbody>\n",
       "</table>\n",
       "<p>117676 rows × 1 columns</p>\n",
       "</div>"
      ],
      "text/plain": [
       "           score\n",
       "0       6.478691\n",
       "1       2.513589\n",
       "2       2.212736\n",
       "3       6.608664\n",
       "4       6.339157\n",
       "...          ...\n",
       "117671  4.182134\n",
       "117672  9.782259\n",
       "117673  5.659402\n",
       "117674  5.764207\n",
       "117675  5.995664\n",
       "\n",
       "[117676 rows x 1 columns]"
      ]
     },
     "execution_count": 3,
     "metadata": {},
     "output_type": "execute_result"
    }
   ],
   "source": [
    "sample_submission"
   ]
  },
  {
   "cell_type": "code",
   "execution_count": null,
   "metadata": {},
   "outputs": [],
   "source": []
  }
 ],
 "metadata": {
  "kernelspec": {
   "display_name": ".venv",
   "language": "python",
   "name": "python3"
  },
  "language_info": {
   "codemirror_mode": {
    "name": "ipython",
    "version": 3
   },
   "file_extension": ".py",
   "mimetype": "text/x-python",
   "name": "python",
   "nbconvert_exporter": "python",
   "pygments_lexer": "ipython3",
   "version": "3.9.16"
  },
  "orig_nbformat": 4
 },
 "nbformat": 4,
 "nbformat_minor": 2
}
